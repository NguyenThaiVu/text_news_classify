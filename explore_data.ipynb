{
 "cells": [
  {
   "cell_type": "markdown",
   "metadata": {},
   "source": [
    "# Description\n",
    "\n",
    "In this notebook, I will explore the dataset"
   ]
  },
  {
   "cell_type": "code",
   "execution_count": 23,
   "metadata": {},
   "outputs": [
    {
     "name": "stderr",
     "output_type": "stream",
     "text": [
      "[nltk_data] Downloading package stopwords to /home/thaiv7/nltk_data...\n",
      "[nltk_data]   Package stopwords is already up-to-date!\n",
      "[nltk_data] Downloading package punkt to /home/thaiv7/nltk_data...\n",
      "[nltk_data]   Package punkt is already up-to-date!\n"
     ]
    }
   ],
   "source": [
    "import os\n",
    "import numpy as np \n",
    "import pandas as pd \n",
    "import matplotlib.pyplot as plt\n",
    "import re\n",
    "import string \n",
    "import nltk\n",
    "from nltk.corpus import stopwords\n",
    "from nltk.tokenize import word_tokenize\n",
    "from nltk.stem.porter import PorterStemmer\n",
    "\n",
    "from collections import Counter\n",
    "\n",
    "from config import *\n",
    "from utils import *"
   ]
  },
  {
   "cell_type": "markdown",
   "metadata": {},
   "source": [
    "# 1. Read dataset"
   ]
  },
  {
   "cell_type": "code",
   "execution_count": 24,
   "metadata": {},
   "outputs": [],
   "source": [
    "PATH_FILE_RAW_DATA = os.path.join(\"data\", \"BBC News Train.csv\")"
   ]
  },
  {
   "cell_type": "code",
   "execution_count": 25,
   "metadata": {},
   "outputs": [
    {
     "name": "stdout",
     "output_type": "stream",
     "text": [
      "Shape of df: (1490, 3)\n"
     ]
    },
    {
     "data": {
      "text/html": [
       "<div>\n",
       "<style scoped>\n",
       "    .dataframe tbody tr th:only-of-type {\n",
       "        vertical-align: middle;\n",
       "    }\n",
       "\n",
       "    .dataframe tbody tr th {\n",
       "        vertical-align: top;\n",
       "    }\n",
       "\n",
       "    .dataframe thead th {\n",
       "        text-align: right;\n",
       "    }\n",
       "</style>\n",
       "<table border=\"1\" class=\"dataframe\">\n",
       "  <thead>\n",
       "    <tr style=\"text-align: right;\">\n",
       "      <th></th>\n",
       "      <th>ArticleId</th>\n",
       "      <th>Text</th>\n",
       "      <th>Category</th>\n",
       "    </tr>\n",
       "  </thead>\n",
       "  <tbody>\n",
       "    <tr>\n",
       "      <th>0</th>\n",
       "      <td>1833</td>\n",
       "      <td>worldcom ex-boss launches defence lawyers defe...</td>\n",
       "      <td>business</td>\n",
       "    </tr>\n",
       "    <tr>\n",
       "      <th>1</th>\n",
       "      <td>154</td>\n",
       "      <td>german business confidence slides german busin...</td>\n",
       "      <td>business</td>\n",
       "    </tr>\n",
       "    <tr>\n",
       "      <th>2</th>\n",
       "      <td>1101</td>\n",
       "      <td>bbc poll indicates economic gloom citizens in ...</td>\n",
       "      <td>business</td>\n",
       "    </tr>\n",
       "    <tr>\n",
       "      <th>3</th>\n",
       "      <td>1976</td>\n",
       "      <td>lifestyle  governs mobile choice  faster  bett...</td>\n",
       "      <td>tech</td>\n",
       "    </tr>\n",
       "    <tr>\n",
       "      <th>4</th>\n",
       "      <td>917</td>\n",
       "      <td>enron bosses in $168m payout eighteen former e...</td>\n",
       "      <td>business</td>\n",
       "    </tr>\n",
       "  </tbody>\n",
       "</table>\n",
       "</div>"
      ],
      "text/plain": [
       "   ArticleId                                               Text  Category\n",
       "0       1833  worldcom ex-boss launches defence lawyers defe...  business\n",
       "1        154  german business confidence slides german busin...  business\n",
       "2       1101  bbc poll indicates economic gloom citizens in ...  business\n",
       "3       1976  lifestyle  governs mobile choice  faster  bett...      tech\n",
       "4        917  enron bosses in $168m payout eighteen former e...  business"
      ]
     },
     "execution_count": 25,
     "metadata": {},
     "output_type": "execute_result"
    }
   ],
   "source": [
    "df = pd.read_csv(PATH_FILE_RAW_DATA)\n",
    "print(f\"Shape of df: {df.shape}\")\n",
    "df.head()"
   ]
  },
  {
   "cell_type": "code",
   "execution_count": 26,
   "metadata": {},
   "outputs": [
    {
     "name": "stdout",
     "output_type": "stream",
     "text": [
      "Sample text: can yahoo dominate next decade  yahoo has reached the grand old age of 10 and  in internet years  that is a long time.  for many  yahoo remains synonymous with the internet - a veteran that managed to ride the dot-com wave and the subsequent crash and maintain itself as one of the web s top brands. but for others there is another  newer net icon threatening to overshadow yahoo in the post dot-com world - google.  the veteran and the upstart have plenty in common - yahoo was the first internet firm to offer initial public shares and google was arguably the most watched ipo (initial public offering) of the post-dot-com era. both began life as search engines although in 2000  when yahoo chose google to power its search facility while it concentrated on its web portal business  it was very much yahoo that commanded press attention. in recent years  the column inches have stacked up in google s favour as the search engine also diversifies with the launch of services such as gmail  its shopping channel froogle and google news.  for jupiter analyst olivier beauvillain  yahoo s initial decision to put its investment on search on hold was an error.  yahoo was busy building a portal and while it was good to diversify they made a big mistake in outsourcing search to google   he said  they thought google would just be a technology provider but it has become a portal in its own right and a direct competitor   he added. he believes yahoo failed to see how crucial search would become to internet users  something it has rediscovered in recent years.  it is interesting that in these last few years  it has refocused on search following the success of google   he said. but for allen weiner  a research director at analyst firm gartner and someone who has followed yahoo s progress since the early years  the future of search is not going to be purely about the technology powering it.  search technology is valuable but the next generation of search is going to be about premium content and the interface that users have to that content   he said. he believes the rivalry between google and yahoo is overblown and instead thinks the real battle is going to be between yahoo and msn. it is a battle that yahoo is currently winning  he believes.  microsoft has amazing assets including software capability and a global name but it has yet to show me it can create a rival product to yahoo   he said.  he is convinced yahoo remains the single most important brand on the world wide web.   i believe yahoo is the seminal brand on the web. if you are looking for a text book definition of web portal then yahoo is it   he said. it has achieved this dominance  mr weiner believes  by a canny combination of acquisitions such as that of inktomi and overture  and by avoiding direct involvement in either content creation or internet access. that is not to say that yahoo hasn t had its dark days. when the dot-com bubble burst  it lost one-third of its revenue in a single year  bore a succession of losses and saw its market value fall from a peak of $120bn to $4.6bn at one point. crucial to its survival was the decision to replace chief executive tim koogle with terry semel in may 2001  thinks mr weiner. his business savvy  coupled with the technical genius of founder jerry yang has proved a winning combination  he says.  so as the internet giant emerges from its first decade as a survivor  how will it fare as it enters its teenage years   the game is theirs to lose and msn is the only one that stands in the way of yahoo s domination   predicted mr weiner. nick hazel  yahoo s head of consumer services in the uk  thinks the fact that yahoo has grown up with the first wave of the internet generation will stand it in good stead. search will be a key focus as will making yahoo messenger available on mobiles  forging new broadband partnerships such as that with bt in the uk and continuing to provide a range of services beyond the desktop  he says. mr weiner thinks yahoo s vision of becoming the ultimate gateway to the web will move increasing towards movies and television as more and more people get broadband access.  it will spread its portal wings to expand into rich media   he predicts.\n",
      "Label: tech\n"
     ]
    }
   ],
   "source": [
    "idx = np.random.randint(0, len(df))\n",
    "print(f\"Sample text: {df.loc[idx, 'Text']}\")\n",
    "print(f\"Label: {df.loc[idx, 'Category']}\")"
   ]
  },
  {
   "cell_type": "markdown",
   "metadata": {},
   "source": [
    "# 2. Text preprocessing"
   ]
  },
  {
   "cell_type": "code",
   "execution_count": 27,
   "metadata": {},
   "outputs": [],
   "source": [
    "df['Text'] = df['Text'].apply(preprocess_text)"
   ]
  },
  {
   "cell_type": "code",
   "execution_count": 7,
   "metadata": {},
   "outputs": [
    {
     "name": "stdout",
     "output_type": "stream",
     "text": [
      "Sample text: keegan hail comeback king fowler manchest citi boss kevin keegan prais striker robbi fowler landmark return form yearold favour citi earlier season took premiership goal talli past brace monday win norwich still qualiti player know net got suppli ammunit end keegan said work hard get back former liverpool striker move citi poor stint leed battl back firstteam content struggl fit start season fowler overtook le ferdinand tuesday even becom third highest scorer time premiership goal trail alan shearer andi cole keegan believ still come former england forward get better suppli better ad keegan peopl want write kept articl peopl written could throw back would left bit egg face fowler doubl strike help citi come back two goal clinch dramat win carrow road keegan sympathis norwich boss nigel worthington afterward feel bit nigel worthington said team got great charact lot drive enthusiasm know killer blow norwich realli think brought someth premiership stadium atmospher great tough leagu stay find know\n",
      "Label: sport\n"
     ]
    }
   ],
   "source": [
    "idx = np.random.randint(0, len(df))\n",
    "print(f\"Sample text: {df.loc[idx, 'Text']}\")\n",
    "print(f\"Label: {df.loc[idx, 'Category']}\")"
   ]
  },
  {
   "cell_type": "markdown",
   "metadata": {},
   "source": [
    "# 3. Explore dataset"
   ]
  },
  {
   "cell_type": "code",
   "execution_count": 8,
   "metadata": {},
   "outputs": [
    {
     "data": {
      "image/png": "[encoded data removed]",
      "text/plain": [
       "<Figure size 640x480 with 1 Axes>"
      ]
     },
     "metadata": {},
     "output_type": "display_data"
    }
   ],
   "source": [
    "category_counts = df['Category'].value_counts()\n",
    "\n",
    "category_counts.plot(kind='bar')\n",
    "\n",
    "plt.title('Bar Chart of Category Counts')\n",
    "plt.xlabel('Categories')\n",
    "plt.ylabel('Count')\n",
    "\n",
    "plt.show();"
   ]
  },
  {
   "cell_type": "markdown",
   "metadata": {},
   "source": [
    "## 3.1 Analyze Text"
   ]
  },
  {
   "cell_type": "code",
   "execution_count": 9,
   "metadata": {},
   "outputs": [
    {
     "name": "stdout",
     "output_type": "stream",
     "text": [
      "Average length of text: 213.33959731543624 \n"
     ]
    }
   ],
   "source": [
    "average_length = df['Text'].str.split().apply(len).mean()\n",
    "print(f\"Average length of text: {average_length}\")\n",
    "\n",
    "max_length = df['Text'].str.split().apply(len).max()\n",
    "print(f\"Max length of text: {max_length}\")\n",
    "\n",
    "min_length = df['Text'].str.split().apply(len).min()\n",
    "print(f\"Min length of text: {min_length}\")"
   ]
  },
  {
   "cell_type": "code",
   "execution_count": 10,
   "metadata": {},
   "outputs": [
    {
     "name": "stdout",
     "output_type": "stream",
     "text": [
      "Number of words in vocab: 17848\n"
     ]
    }
   ],
   "source": [
    "# Tokenization\n",
    "tokenized_text = df['Text'].str.split()\n",
    "all_words = [word for tokens in tokenized_text for word in tokens]\n",
    "\n",
    "vocab = set(all_words)\n",
    "print(f\"Number of words in vocab: {len(vocab)}\")"
   ]
  },
  {
   "cell_type": "code",
   "execution_count": 11,
   "metadata": {},
   "outputs": [
    {
     "name": "stdout",
     "output_type": "stream",
     "text": [
      "Ten MOST frequent words:\n",
      "said: 4838\n",
      "mr: 2006\n",
      "year: 1872\n",
      "would: 1711\n",
      "also: 1426\n",
      "new: 1334\n",
      "peopl: 1323\n",
      "us: 1232\n",
      "one: 1190\n",
      "say: 1050\n",
      "\n",
      "Ten LEAST frequent words:\n",
      "verbalici: 1\n",
      "stereophon: 1\n",
      "rapport: 1\n",
      "wharf: 1\n",
      "glocer: 1\n",
      "microsoftpartn: 1\n",
      "secondgener: 1\n",
      "unwelcom: 1\n",
      "randomli: 1\n",
      "tail: 1\n"
     ]
    }
   ],
   "source": [
    "# Calculate word frequency\n",
    "word_freq = dict(Counter(all_words))\n",
    "word_freq = sorted(word_freq.items(), key=lambda x: x[1], reverse=True)\n",
    "\n",
    "print(\"Ten MOST frequent words:\")\n",
    "for word, count in word_freq[:10]:\n",
    "    print(f\"{word}: {count}\")\n",
    "\n",
    "print(\"\\nTen LEAST frequent words:\")\n",
    "for word, count in word_freq[-10:]:\n",
    "    print(f\"{word}: {count}\")"
   ]
  },
  {
   "cell_type": "code",
   "execution_count": 14,
   "metadata": {},
   "outputs": [
    {
     "name": "stdout",
     "output_type": "stream",
     "text": [
      "Number of least appear words (smaller than 3): 10645\n"
     ]
    }
   ],
   "source": [
    "threshold_rare_words = 3\n",
    "list_rare_words = []\n",
    "\n",
    "for (word, times) in word_freq:\n",
    "    if times <= threshold_rare_words:\n",
    "        list_rare_words.append(word)\n",
    "\n",
    "list_rare_words = set(list_rare_words)\n",
    "print(f\"Number of least appear words (smaller than {threshold_rare_words}): {len(list_rare_words)}\")"
   ]
  },
  {
   "cell_type": "code",
   "execution_count": 15,
   "metadata": {},
   "outputs": [],
   "source": [
    "def remove_rarewords(text, list_rare_words):\n",
    "    \"\"\"\n",
    "    Custom function to remove rare words\n",
    "    \"\"\"\n",
    "    return \" \".join([word for word in str(text).split() if word not in list_rare_words])"
   ]
  },
  {
   "cell_type": "code",
   "execution_count": 19,
   "metadata": {},
   "outputs": [
    {
     "name": "stdout",
     "output_type": "stream",
     "text": [
      "----- After remove rare words: -----\n",
      "Average length of text: 202.5959731543624\n",
      "Max length of text: 1597\n",
      "Min length of text: 45\n",
      "Number of words in vocab: 7203\n"
     ]
    }
   ],
   "source": [
    "df['Text'] = df['Text'].apply(lambda text: remove_rarewords(text, list_rare_words))\n",
    "\n",
    "print(f\"----- After remove rare words: -----\")\n",
    "\n",
    "average_length = df['Text'].str.split().apply(len).mean()\n",
    "print(f\"Average length of text: {average_length}\")\n",
    "\n",
    "max_length = df['Text'].str.split().apply(len).max()\n",
    "print(f\"Max length of text: {max_length}\")\n",
    "\n",
    "min_length = df['Text'].str.split().apply(len).min()\n",
    "print(f\"Min length of text: {min_length}\")\n",
    "\n",
    "tokenized_text = df['Text'].str.split()\n",
    "all_words = [word for tokens in tokenized_text for word in tokens]\n",
    "\n",
    "vocab = set(all_words)\n",
    "print(f\"Number of words in vocab: {len(vocab)}\")"
   ]
  },
  {
   "cell_type": "markdown",
   "metadata": {},
   "source": [
    "# 4. Save processed text"
   ]
  },
  {
   "cell_type": "code",
   "execution_count": 22,
   "metadata": {},
   "outputs": [
    {
     "name": "stdout",
     "output_type": "stream",
     "text": [
      "[INFO] Save file to disk\n"
     ]
    }
   ],
   "source": [
    "PATH_OUTPUT_PROCESSED_FILE = os.path.join(\"data\", \"bbc_news_data_processed.csv\")\n",
    "\n",
    "df.to_csv(PATH_OUTPUT_PROCESSED_FILE, index=False)\n",
    "print(f\"[INFO] Save file to disk\")"
   ]
  },
  {
   "cell_type": "code",
   "execution_count": null,
   "metadata": {},
   "outputs": [],
   "source": []
  },
  {
   "cell_type": "code",
   "execution_count": null,
   "metadata": {},
   "outputs": [],
   "source": []
  },
  {
   "cell_type": "code",
   "execution_count": null,
   "metadata": {},
   "outputs": [],
   "source": []
  }
 ],
 "metadata": {
  "kernelspec": {
   "display_name": "mlop_env",
   "language": "python",
   "name": "python3"
  },
  "language_info": {
   "codemirror_mode": {
    "name": "ipython",
    "version": 3
   },
   "file_extension": ".py",
   "mimetype": "text/x-python",
   "name": "python",
   "nbconvert_exporter": "python",
   "pygments_lexer": "ipython3",
   "version": "3.10.13"
  }
 },
 "nbformat": 4,
 "nbformat_minor": 2
}
